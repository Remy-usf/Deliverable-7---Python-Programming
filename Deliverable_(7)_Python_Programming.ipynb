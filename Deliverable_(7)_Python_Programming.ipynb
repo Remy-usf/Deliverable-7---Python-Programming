{
  "nbformat": 4,
  "nbformat_minor": 0,
  "metadata": {
    "colab": {
      "provenance": [],
      "authorship_tag": "ABX9TyP81K+oenMVmoOy3sZvs0HB",
      "include_colab_link": true
    },
    "kernelspec": {
      "name": "python3",
      "display_name": "Python 3"
    },
    "language_info": {
      "name": "python"
    }
  },
  "cells": [
    {
      "cell_type": "markdown",
      "metadata": {
        "id": "view-in-github",
        "colab_type": "text"
      },
      "source": [
        "<a href=\"https://colab.research.google.com/github/Remy-usf/Deliverable-7---Python-Programming/blob/main/Deliverable_(7)_Python_Programming.ipynb\" target=\"_parent\"><img src=\"https://colab.research.google.com/assets/colab-badge.svg\" alt=\"Open In Colab\"/></a>"
      ]
    },
    {
      "cell_type": "markdown",
      "source": [
        " Name: Jurami Cajigas\n",
        " Date: 3/07/2023\n",
        " Description: Python Program that compiles the sequence of the first non-negative n even, odd, and Fibonacci numbers."
      ],
      "metadata": {
        "id": "xwMMTymnJyrn"
      }
    },
    {
      "cell_type": "code",
      "execution_count": null,
      "metadata": {
        "id": "JG-C0BwhJAv5"
      },
      "outputs": [],
      "source": [
        "import pandas as pd"
      ]
    },
    {
      "cell_type": "code",
      "source": [
        "# Ask the user to enter an integer value greater than 0\n",
        "n = int(input(\"Enter a positive integer value greater than 0: \"))"
      ],
      "metadata": {
        "colab": {
          "base_uri": "https://localhost:8080/"
        },
        "id": "Ix-xIKHkJEzH",
        "outputId": "5cc54144-51d7-44b6-ca0f-f51305c069ec"
      },
      "execution_count": null,
      "outputs": [
        {
          "name": "stdout",
          "output_type": "stream",
          "text": [
            "Enter a positive integer value greater than 0: 8\n"
          ]
        }
      ]
    },
    {
      "cell_type": "code",
      "source": [
        "# Use a conditional statement to check the user’s entry is greater than 0\n",
        "if n <= 0:\n",
        "    print(\"Invalid input! Please enter a positive integer value greater than 0.\")\n",
        "else:\n",
        "    # Create a list for each sequence, and store the numbers of sequences\n",
        "    even_numbers = [i for i in range(0, 2*n, 2)]\n",
        "    odd_numbers = [i for i in range(1, 2*n+1, 2)]\n",
        "    fibonacci_numbers = [0, 1]\n",
        "    for i in range(2, n):\n",
        "        fibonacci_numbers.append(fibonacci_numbers[i-1] + fibonacci_numbers[i-2])"
      ],
      "metadata": {
        "id": "y_6czvzvJH-1"
      },
      "execution_count": null,
      "outputs": []
    },
    {
      "cell_type": "code",
      "source": [
        "  # Display the results in a data frame format\n",
        "  data = {\"Even Numbers\": even_numbers, \"Odd Numbers\": odd_numbers, \"Fibonacci Numbers\": fibonacci_numbers}\n",
        "  df = pd.DataFrame(data)\n",
        "  print(df)"
      ],
      "metadata": {
        "colab": {
          "base_uri": "https://localhost:8080/"
        },
        "id": "WrZZjicAJH0K",
        "outputId": "283c9a97-b9ff-415a-cf3f-3dc6971566cb"
      },
      "execution_count": null,
      "outputs": [
        {
          "output_type": "stream",
          "name": "stdout",
          "text": [
            "   Even Numbers  Odd Numbers  Fibonacci Numbers\n",
            "0             0            1                  0\n",
            "1             2            3                  1\n",
            "2             4            5                  1\n",
            "3             6            7                  2\n",
            "4             8            9                  3\n",
            "5            10           11                  5\n",
            "6            12           13                  8\n",
            "7            14           15                 13\n"
          ]
        }
      ]
    }
  ]
}